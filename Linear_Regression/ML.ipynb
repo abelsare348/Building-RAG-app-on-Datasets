{
  "nbformat": 4,
  "nbformat_minor": 0,
  "metadata": {
    "colab": {
      "provenance": [],
      "authorship_tag": "ABX9TyNz1nyRoKd7WZWy3bAeoaG1",
      "include_colab_link": true
    },
    "kernelspec": {
      "name": "python3",
      "display_name": "Python 3"
    },
    "language_info": {
      "name": "python"
    }
  },
  "cells": [
    {
      "cell_type": "markdown",
      "metadata": {
        "id": "view-in-github",
        "colab_type": "text"
      },
      "source": [
        "<a href=\"https://colab.research.google.com/github/abelsare348/Building-RAG-app-on-Datasets/blob/main/Linear_Regression/ML.ipynb\" target=\"_parent\"><img src=\"https://colab.research.google.com/assets/colab-badge.svg\" alt=\"Open In Colab\"/></a>"
      ]
    },
    {
      "cell_type": "code",
      "source": [
        "from pyspark.sql import SparkSession\n",
        "spark=SparkSession.builder.appName(\"ML-ops\").master(\"local\").getOrCreate()"
      ],
      "metadata": {
        "id": "nL6FITZFrGKI"
      },
      "execution_count": 2,
      "outputs": []
    },
    {
      "cell_type": "code",
      "execution_count": 4,
      "metadata": {
        "colab": {
          "base_uri": "https://localhost:8080/"
        },
        "id": "qCWBgB0MqZZn",
        "outputId": "8b42f938-229b-4d36-ba17-1732850b2cc0"
      },
      "outputs": [
        {
          "output_type": "stream",
          "name": "stdout",
          "text": [
            "+-----------+--------+---------+---+------+\n",
            "|square_feet|bedrooms|bathrooms|age| price|\n",
            "+-----------+--------+---------+---+------+\n",
            "|       1000|       2|        1| 10|200000|\n",
            "|       1500|       3|        2|  5|300000|\n",
            "|       2000|       4|        3|  2|450000|\n",
            "|       2500|       4|        2|  8|500000|\n",
            "|       1200|       3|        1| 20|220000|\n",
            "|       1800|       3|        2|  4|350000|\n",
            "+-----------+--------+---------+---+------+\n",
            "\n"
          ]
        }
      ],
      "source": [
        "housingdf=spark.read.option(\"inferSchema\",True).option(\"header\",True).csv(\"/content/housing.csv\")\n",
        "housingdf.show()"
      ]
    },
    {
      "cell_type": "code",
      "source": [
        "# Define input columns into one\n",
        "feature_cols=[\"square_feet\",\"bedrooms\",\"bathrooms\",\"age\"]"
      ],
      "metadata": {
        "id": "wYe-skVWhHPl"
      },
      "execution_count": 6,
      "outputs": []
    },
    {
      "cell_type": "code",
      "source": [
        "from pyspark.ml.feature import VectorAssembler\n",
        "\n",
        "# create assembler to feed to spark ml model in input and output form\n",
        "assembler = VectorAssembler(inputCols=feature_cols, outputCol=\"features\")"
      ],
      "metadata": {
        "id": "eKvwJYUbhZ3e"
      },
      "execution_count": 8,
      "outputs": []
    },
    {
      "cell_type": "code",
      "source": [
        "data= assembler.transform(housingdf).select(\"features\",\"price\")"
      ],
      "metadata": {
        "id": "tfmIv93ZjaSD"
      },
      "execution_count": 13,
      "outputs": []
    },
    {
      "cell_type": "code",
      "source": [
        "data.show()"
      ],
      "metadata": {
        "colab": {
          "base_uri": "https://localhost:8080/"
        },
        "id": "QCKBNGoVkhBE",
        "outputId": "73d835e9-7394-48f3-f92e-e00adbf3bfd3"
      },
      "execution_count": 14,
      "outputs": [
        {
          "output_type": "stream",
          "name": "stdout",
          "text": [
            "+--------------------+------+\n",
            "|            features| price|\n",
            "+--------------------+------+\n",
            "|[1000.0,2.0,1.0,1...|200000|\n",
            "|[1500.0,3.0,2.0,5.0]|300000|\n",
            "|[2000.0,4.0,3.0,2.0]|450000|\n",
            "|[2500.0,4.0,2.0,8.0]|500000|\n",
            "|[1200.0,3.0,1.0,2...|220000|\n",
            "|[1800.0,3.0,2.0,4.0]|350000|\n",
            "+--------------------+------+\n",
            "\n"
          ]
        }
      ]
    },
    {
      "cell_type": "code",
      "source": [
        "# divide data for testing and training\n",
        "train_data,test_data=data.randomSplit([0.8,0.2],seed=42)"
      ],
      "metadata": {
        "id": "uDQWzpUJk01K"
      },
      "execution_count": 16,
      "outputs": []
    },
    {
      "cell_type": "code",
      "source": [
        "from pyspark.ml.regression import LinearRegression\n",
        "\n",
        "# build linear regression model on train_data\n",
        "model= LinearRegression(featuresCol=\"features\",labelCol=\"price\").fit(train_data)"
      ],
      "metadata": {
        "id": "OYGdgswmlrC2"
      },
      "execution_count": 18,
      "outputs": []
    },
    {
      "cell_type": "code",
      "source": [
        "print(\"intercept\" ,model.intercept)\n",
        "print(\"coefficient\" ,model.coefficients)"
      ],
      "metadata": {
        "colab": {
          "base_uri": "https://localhost:8080/"
        },
        "id": "XdbbOxDEnl3K",
        "outputId": "d8fadd19-545c-4cbc-a253-326f503e285c"
      },
      "execution_count": 21,
      "outputs": [
        {
          "output_type": "stream",
          "name": "stdout",
          "text": [
            "intercept 228749.9999999147\n",
            "coefficient [-137.49999999989578,378749.99999987386,-317499.99999988085,-33124.99999998893]\n"
          ]
        }
      ]
    },
    {
      "cell_type": "code",
      "source": [
        "# Evaluate on test data\n",
        "predictions= model.transform(test_data)\n",
        "predictions.select(\"features\",\"price\",\"prediction\").show()"
      ],
      "metadata": {
        "colab": {
          "base_uri": "https://localhost:8080/"
        },
        "id": "IVQTVEkko5Pf",
        "outputId": "ac70ffe6-640b-4f43-c5d7-e93ffb0591dc"
      },
      "execution_count": 23,
      "outputs": [
        {
          "output_type": "stream",
          "name": "stdout",
          "text": [
            "+--------------------+------+-----------------+\n",
            "|            features| price|       prediction|\n",
            "+--------------------+------+-----------------+\n",
            "|[1500.0,3.0,2.0,5.0]|300000|358124.9999999863|\n",
            "+--------------------+------+-----------------+\n",
            "\n"
          ]
        }
      ]
    },
    {
      "cell_type": "code",
      "source": [
        "# performance summary\n",
        "\n",
        "summary = model.summary\n",
        "print(\"RMSE: \", summary.rootMeanSquaredError)\n",
        "print(\"R2: \", summary.r2)"
      ],
      "metadata": {
        "colab": {
          "base_uri": "https://localhost:8080/"
        },
        "id": "F7y3gpUCqdIg",
        "outputId": "1838f0d3-1a34-4eae-9804-a657f8f77834"
      },
      "execution_count": 24,
      "outputs": [
        {
          "output_type": "stream",
          "name": "stdout",
          "text": [
            "RMSE:  3.729607896255331e-09\n",
            "R2:  1.0\n"
          ]
        }
      ]
    }
  ]
}